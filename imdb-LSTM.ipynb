{
  "nbformat": 4,
  "nbformat_minor": 0,
  "metadata": {
    "colab": {
      "provenance": []
    },
    "kernelspec": {
      "name": "python3",
      "display_name": "Python 3"
    },
    "language_info": {
      "name": "python"
    }
  },
  "cells": [
    {
      "cell_type": "markdown",
      "source": [
        "importing libraries"
      ],
      "metadata": {
        "id": "0Hcm5l8HFa1b"
      }
    },
    {
      "cell_type": "code",
      "source": [
        "from keras.preprocessing import sequence\n",
        "from keras.models import Sequential\n",
        "from keras.layers import Dense, Dropout, Activation,MaxPooling1D\n",
        "from keras.layers import Embedding, LSTM\n",
        "from keras.layers import Conv1D, Flatten\n",
        "from keras.datasets import imdb\n",
        "import numpy as np\n",
        "from keras.preprocessing import text\n"
      ],
      "metadata": {
        "id": "8TEjf3sPFeem"
      },
      "execution_count": 6,
      "outputs": []
    },
    {
      "cell_type": "markdown",
      "source": [
        "Load Data"
      ],
      "metadata": {
        "id": "b-EcgF5-FmBO"
      }
    },
    {
      "cell_type": "code",
      "source": [
        "(X_train, y_train), (X_test, y_test) = imdb.load_data(num_words=10000)"
      ],
      "metadata": {
        "colab": {
          "base_uri": "https://localhost:8080/"
        },
        "id": "jdpFyR9qFntK",
        "outputId": "b6092c2d-2d3e-4288-db63-74c4f8606e0b"
      },
      "execution_count": 2,
      "outputs": [
        {
          "output_type": "stream",
          "name": "stdout",
          "text": [
            "Downloading data from https://storage.googleapis.com/tensorflow/tf-keras-datasets/imdb.npz\n",
            "17464789/17464789 [==============================] - 0s 0us/step\n"
          ]
        }
      ]
    },
    {
      "cell_type": "markdown",
      "source": [
        "init hyperparameters"
      ],
      "metadata": {
        "id": "GqjH5ip7Ftbh"
      }
    },
    {
      "cell_type": "code",
      "source": [
        "vocab_size = 1000\n",
        "maxlen = 1000\n",
        "batch_size = 32\n",
        "embedding_dims = 10\n",
        "filters = 16\n",
        "kernel_size = 3\n",
        "hidden_dims = 250\n",
        "epochs = 10"
      ],
      "metadata": {
        "id": "UP18hq_aFwbd"
      },
      "execution_count": 3,
      "outputs": []
    },
    {
      "cell_type": "markdown",
      "source": [
        "Data Preprocessing"
      ],
      "metadata": {
        "id": "Bi_leAAuF1VF"
      }
    },
    {
      "cell_type": "code",
      "source": [
        "tokenizer = text.Tokenizer(num_words=vocab_size)\n",
        "X_train = [str(text) for text in X_train]\n",
        "tokenizer.fit_on_texts(X_train)\n",
        "X_train = tokenizer.texts_to_matrix(X_train)\n",
        "X_test = [str(text) for text in X_train]\n",
        "X_test = tokenizer.texts_to_matrix(X_test)\n",
        "X_train = sequence.pad_sequences(X_train, maxlen=maxlen)\n",
        "X_test = sequence.pad_sequences(X_test, maxlen=maxlen)\n"
      ],
      "metadata": {
        "id": "syvBfbMcF4Bl"
      },
      "execution_count": 4,
      "outputs": []
    },
    {
      "cell_type": "markdown",
      "source": [
        "Build Neural Network"
      ],
      "metadata": {
        "id": "ZsDLidgfGGn0"
      }
    },
    {
      "cell_type": "code",
      "source": [
        "model = Sequential()\n",
        "model.add(Embedding(vocab_size,\n",
        "                    embedding_dims,\n",
        "                    input_length=maxlen))\n",
        "model.add(Conv1D(filters,\n",
        "                 kernel_size,\n",
        "                 padding='valid',\n",
        "                 activation='relu'))\n",
        "model.add(MaxPooling1D())\n",
        "model.add(LSTM(hidden_dims, activation=\"sigmoid\"))\n",
        "model.add(Dense(1, activation='sigmoid'))"
      ],
      "metadata": {
        "id": "4k5ij0GXGJ74"
      },
      "execution_count": 10,
      "outputs": []
    },
    {
      "cell_type": "markdown",
      "source": [
        "Compile NN"
      ],
      "metadata": {
        "id": "msVW_RolHGBW"
      }
    },
    {
      "cell_type": "code",
      "source": [
        "model.compile(loss='binary_crossentropy',\n",
        "              optimizer='rmsprop',\n",
        "              metrics=['accuracy'])"
      ],
      "metadata": {
        "id": "6BvxI9pUHIIy"
      },
      "execution_count": 11,
      "outputs": []
    },
    {
      "cell_type": "markdown",
      "source": [
        "Fitting Model"
      ],
      "metadata": {
        "id": "pp7tiLZgHM7l"
      }
    },
    {
      "cell_type": "code",
      "source": [
        "model.fit(X_train, y_train,\n",
        "          batch_size=batch_size,\n",
        "          epochs=epochs,\n",
        "          validation_data=(X_test, y_test))"
      ],
      "metadata": {
        "colab": {
          "base_uri": "https://localhost:8080/"
        },
        "id": "4kORHPeQHPKu",
        "outputId": "fce790b9-9e49-413d-cdc6-fa0514cfa4d1"
      },
      "execution_count": null,
      "outputs": [
        {
          "output_type": "stream",
          "name": "stdout",
          "text": [
            "Epoch 1/10\n",
            "782/782 [==============================] - 1362s 2s/step - loss: 0.6986 - accuracy: 0.4981 - val_loss: 0.7237 - val_accuracy: 0.5000\n",
            "Epoch 2/10\n",
            "782/782 [==============================] - 1350s 2s/step - loss: 0.6953 - accuracy: 0.4992 - val_loss: 0.7019 - val_accuracy: 0.5000\n",
            "Epoch 3/10\n",
            "782/782 [==============================] - 1346s 2s/step - loss: 0.6906 - accuracy: 0.5147 - val_loss: 0.6934 - val_accuracy: 0.5000\n",
            "Epoch 4/10\n",
            "782/782 [==============================] - 1364s 2s/step - loss: 0.6884 - accuracy: 0.5210 - val_loss: 0.6964 - val_accuracy: 0.5000\n",
            "Epoch 5/10\n",
            "782/782 [==============================] - 1349s 2s/step - loss: 0.6880 - accuracy: 0.5170 - val_loss: 0.6954 - val_accuracy: 0.5000\n",
            "Epoch 6/10\n",
            "782/782 [==============================] - 1355s 2s/step - loss: 0.6869 - accuracy: 0.5239 - val_loss: 0.6969 - val_accuracy: 0.5000\n",
            "Epoch 7/10\n",
            "782/782 [==============================] - 1267s 2s/step - loss: 0.6858 - accuracy: 0.5274 - val_loss: 0.6974 - val_accuracy: 0.5000\n",
            "Epoch 8/10\n",
            "436/782 [===============>..............] - ETA: 7:15 - loss: 0.6841 - accuracy: 0.5293"
          ]
        }
      ]
    },
    {
      "cell_type": "markdown",
      "source": [
        "Evalute Model"
      ],
      "metadata": {
        "id": "8_FC2oLSHU0o"
      }
    },
    {
      "cell_type": "code",
      "source": [
        "loss_val,accuracy_val=model.evalute(X_test,y_test)"
      ],
      "metadata": {
        "id": "asBZh7uMHYVz"
      },
      "execution_count": null,
      "outputs": []
    }
  ]
}